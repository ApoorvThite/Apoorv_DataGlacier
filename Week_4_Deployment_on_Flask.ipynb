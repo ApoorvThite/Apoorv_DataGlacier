{
  "cells": [
    {
      "cell_type": "markdown",
      "source": [
        "# **Week 4: Deployment on Flask**"
      ],
      "metadata": {
        "id": "KO_4w5Aw0Qcd"
      }
    },
    {
      "cell_type": "markdown",
      "source": [
        "**1-Building Model and Save**"
      ],
      "metadata": {
        "id": "5BKBq1NRyu1I"
      }
    },
    {
      "cell_type": "code",
      "execution_count": 3,
      "metadata": {
        "id": "osD9bW-7uAPn"
      },
      "outputs": [],
      "source": [
        "import pandas as pd\n",
        "import seaborn as sns\n",
        "import numpy as np\n",
        "import datetime as dt\n",
        "import matplotlib.pyplot as plt"
      ]
    },
    {
      "cell_type": "code",
      "execution_count": 4,
      "metadata": {
        "id": "2G3itosBu_rj"
      },
      "outputs": [],
      "source": [
        "house_data=pd.read_csv('USA_Housing.csv')"
      ]
    },
    {
      "cell_type": "markdown",
      "metadata": {
        "id": "FADJO-DVwRSl"
      },
      "source": [
        "**1.1-Investigation of datasets**"
      ]
    },
    {
      "cell_type": "code",
      "execution_count": 5,
      "metadata": {
        "id": "3revlUvmviXO",
        "colab": {
          "base_uri": "https://localhost:8080/",
          "height": 354
        },
        "outputId": "02eb4f8b-3b83-4575-d9db-b6acfc7f3cbe"
      },
      "outputs": [
        {
          "output_type": "execute_result",
          "data": {
            "text/plain": [
              "   Avg. Area Income  Avg. Area House Age  Avg. Area Number of Rooms  \\\n",
              "0      79545.458574             5.682861                   7.009188   \n",
              "1      79248.642455             6.002900                   6.730821   \n",
              "2      61287.067179             5.865890                   8.512727   \n",
              "3      63345.240046             7.188236                   5.586729   \n",
              "4      59982.197226             5.040555                   7.839388   \n",
              "\n",
              "   Avg. Area Number of Bedrooms  Area Population         Price  \\\n",
              "0                          4.09     23086.800503  1.059034e+06   \n",
              "1                          3.09     40173.072174  1.505891e+06   \n",
              "2                          5.13     36882.159400  1.058988e+06   \n",
              "3                          3.26     34310.242831  1.260617e+06   \n",
              "4                          4.23     26354.109472  6.309435e+05   \n",
              "\n",
              "                                             Address  \n",
              "0  208 Michael Ferry Apt. 674\\nLaurabury, NE 3701...  \n",
              "1  188 Johnson Views Suite 079\\nLake Kathleen, CA...  \n",
              "2  9127 Elizabeth Stravenue\\nDanieltown, WI 06482...  \n",
              "3                          USS Barnett\\nFPO AP 44820  \n",
              "4                         USNS Raymond\\nFPO AE 09386  "
            ],
            "text/html": [
              "\n",
              "  <div id=\"df-5836f55c-a31c-4508-b237-e19856bf86b6\">\n",
              "    <div class=\"colab-df-container\">\n",
              "      <div>\n",
              "<style scoped>\n",
              "    .dataframe tbody tr th:only-of-type {\n",
              "        vertical-align: middle;\n",
              "    }\n",
              "\n",
              "    .dataframe tbody tr th {\n",
              "        vertical-align: top;\n",
              "    }\n",
              "\n",
              "    .dataframe thead th {\n",
              "        text-align: right;\n",
              "    }\n",
              "</style>\n",
              "<table border=\"1\" class=\"dataframe\">\n",
              "  <thead>\n",
              "    <tr style=\"text-align: right;\">\n",
              "      <th></th>\n",
              "      <th>Avg. Area Income</th>\n",
              "      <th>Avg. Area House Age</th>\n",
              "      <th>Avg. Area Number of Rooms</th>\n",
              "      <th>Avg. Area Number of Bedrooms</th>\n",
              "      <th>Area Population</th>\n",
              "      <th>Price</th>\n",
              "      <th>Address</th>\n",
              "    </tr>\n",
              "  </thead>\n",
              "  <tbody>\n",
              "    <tr>\n",
              "      <th>0</th>\n",
              "      <td>79545.458574</td>\n",
              "      <td>5.682861</td>\n",
              "      <td>7.009188</td>\n",
              "      <td>4.09</td>\n",
              "      <td>23086.800503</td>\n",
              "      <td>1.059034e+06</td>\n",
              "      <td>208 Michael Ferry Apt. 674\\nLaurabury, NE 3701...</td>\n",
              "    </tr>\n",
              "    <tr>\n",
              "      <th>1</th>\n",
              "      <td>79248.642455</td>\n",
              "      <td>6.002900</td>\n",
              "      <td>6.730821</td>\n",
              "      <td>3.09</td>\n",
              "      <td>40173.072174</td>\n",
              "      <td>1.505891e+06</td>\n",
              "      <td>188 Johnson Views Suite 079\\nLake Kathleen, CA...</td>\n",
              "    </tr>\n",
              "    <tr>\n",
              "      <th>2</th>\n",
              "      <td>61287.067179</td>\n",
              "      <td>5.865890</td>\n",
              "      <td>8.512727</td>\n",
              "      <td>5.13</td>\n",
              "      <td>36882.159400</td>\n",
              "      <td>1.058988e+06</td>\n",
              "      <td>9127 Elizabeth Stravenue\\nDanieltown, WI 06482...</td>\n",
              "    </tr>\n",
              "    <tr>\n",
              "      <th>3</th>\n",
              "      <td>63345.240046</td>\n",
              "      <td>7.188236</td>\n",
              "      <td>5.586729</td>\n",
              "      <td>3.26</td>\n",
              "      <td>34310.242831</td>\n",
              "      <td>1.260617e+06</td>\n",
              "      <td>USS Barnett\\nFPO AP 44820</td>\n",
              "    </tr>\n",
              "    <tr>\n",
              "      <th>4</th>\n",
              "      <td>59982.197226</td>\n",
              "      <td>5.040555</td>\n",
              "      <td>7.839388</td>\n",
              "      <td>4.23</td>\n",
              "      <td>26354.109472</td>\n",
              "      <td>6.309435e+05</td>\n",
              "      <td>USNS Raymond\\nFPO AE 09386</td>\n",
              "    </tr>\n",
              "  </tbody>\n",
              "</table>\n",
              "</div>\n",
              "      <button class=\"colab-df-convert\" onclick=\"convertToInteractive('df-5836f55c-a31c-4508-b237-e19856bf86b6')\"\n",
              "              title=\"Convert this dataframe to an interactive table.\"\n",
              "              style=\"display:none;\">\n",
              "        \n",
              "  <svg xmlns=\"http://www.w3.org/2000/svg\" height=\"24px\"viewBox=\"0 0 24 24\"\n",
              "       width=\"24px\">\n",
              "    <path d=\"M0 0h24v24H0V0z\" fill=\"none\"/>\n",
              "    <path d=\"M18.56 5.44l.94 2.06.94-2.06 2.06-.94-2.06-.94-.94-2.06-.94 2.06-2.06.94zm-11 1L8.5 8.5l.94-2.06 2.06-.94-2.06-.94L8.5 2.5l-.94 2.06-2.06.94zm10 10l.94 2.06.94-2.06 2.06-.94-2.06-.94-.94-2.06-.94 2.06-2.06.94z\"/><path d=\"M17.41 7.96l-1.37-1.37c-.4-.4-.92-.59-1.43-.59-.52 0-1.04.2-1.43.59L10.3 9.45l-7.72 7.72c-.78.78-.78 2.05 0 2.83L4 21.41c.39.39.9.59 1.41.59.51 0 1.02-.2 1.41-.59l7.78-7.78 2.81-2.81c.8-.78.8-2.07 0-2.86zM5.41 20L4 18.59l7.72-7.72 1.47 1.35L5.41 20z\"/>\n",
              "  </svg>\n",
              "      </button>\n",
              "      \n",
              "  <style>\n",
              "    .colab-df-container {\n",
              "      display:flex;\n",
              "      flex-wrap:wrap;\n",
              "      gap: 12px;\n",
              "    }\n",
              "\n",
              "    .colab-df-convert {\n",
              "      background-color: #E8F0FE;\n",
              "      border: none;\n",
              "      border-radius: 50%;\n",
              "      cursor: pointer;\n",
              "      display: none;\n",
              "      fill: #1967D2;\n",
              "      height: 32px;\n",
              "      padding: 0 0 0 0;\n",
              "      width: 32px;\n",
              "    }\n",
              "\n",
              "    .colab-df-convert:hover {\n",
              "      background-color: #E2EBFA;\n",
              "      box-shadow: 0px 1px 2px rgba(60, 64, 67, 0.3), 0px 1px 3px 1px rgba(60, 64, 67, 0.15);\n",
              "      fill: #174EA6;\n",
              "    }\n",
              "\n",
              "    [theme=dark] .colab-df-convert {\n",
              "      background-color: #3B4455;\n",
              "      fill: #D2E3FC;\n",
              "    }\n",
              "\n",
              "    [theme=dark] .colab-df-convert:hover {\n",
              "      background-color: #434B5C;\n",
              "      box-shadow: 0px 1px 3px 1px rgba(0, 0, 0, 0.15);\n",
              "      filter: drop-shadow(0px 1px 2px rgba(0, 0, 0, 0.3));\n",
              "      fill: #FFFFFF;\n",
              "    }\n",
              "  </style>\n",
              "\n",
              "      <script>\n",
              "        const buttonEl =\n",
              "          document.querySelector('#df-5836f55c-a31c-4508-b237-e19856bf86b6 button.colab-df-convert');\n",
              "        buttonEl.style.display =\n",
              "          google.colab.kernel.accessAllowed ? 'block' : 'none';\n",
              "\n",
              "        async function convertToInteractive(key) {\n",
              "          const element = document.querySelector('#df-5836f55c-a31c-4508-b237-e19856bf86b6');\n",
              "          const dataTable =\n",
              "            await google.colab.kernel.invokeFunction('convertToInteractive',\n",
              "                                                     [key], {});\n",
              "          if (!dataTable) return;\n",
              "\n",
              "          const docLinkHtml = 'Like what you see? Visit the ' +\n",
              "            '<a target=\"_blank\" href=https://colab.research.google.com/notebooks/data_table.ipynb>data table notebook</a>'\n",
              "            + ' to learn more about interactive tables.';\n",
              "          element.innerHTML = '';\n",
              "          dataTable['output_type'] = 'display_data';\n",
              "          await google.colab.output.renderOutput(dataTable, element);\n",
              "          const docLink = document.createElement('div');\n",
              "          docLink.innerHTML = docLinkHtml;\n",
              "          element.appendChild(docLink);\n",
              "        }\n",
              "      </script>\n",
              "    </div>\n",
              "  </div>\n",
              "  "
            ]
          },
          "metadata": {},
          "execution_count": 5
        }
      ],
      "source": [
        "house_data.head()"
      ]
    },
    {
      "cell_type": "code",
      "source": [
        "house_data.rename(columns = {'Avg. Area Income':'Area_Income'}, inplace = True)\n",
        "house_data.rename(columns = {'Avg. Area House Age':'Area_House_Age'}, inplace = True)\n",
        "house_data.rename(columns = {'Avg. Area Number of Rooms':'Area_Number_Rooms'}, inplace = True)\n",
        "house_data.rename(columns = {'Avg. Area Number of Bedrooms':'Area_Number_Bedrooms'}, inplace = True)\n",
        "house_data.rename(columns = {'Area Population':'Area_Populations'}, inplace = True)"
      ],
      "metadata": {
        "id": "T_q7Lr6beO_L"
      },
      "execution_count": 6,
      "outputs": []
    },
    {
      "cell_type": "code",
      "source": [
        "house_data.head()"
      ],
      "metadata": {
        "colab": {
          "base_uri": "https://localhost:8080/",
          "height": 409
        },
        "id": "XwzfG7ExeUcd",
        "outputId": "b3da0904-1d01-4240-bad3-1a71313384d7"
      },
      "execution_count": 7,
      "outputs": [
        {
          "output_type": "execute_result",
          "data": {
            "text/plain": [
              "    Area_Income  Area_House_Age  Area_Number_Rooms  Area_Number_Bedrooms  \\\n",
              "0  79545.458574        5.682861           7.009188                  4.09   \n",
              "1  79248.642455        6.002900           6.730821                  3.09   \n",
              "2  61287.067179        5.865890           8.512727                  5.13   \n",
              "3  63345.240046        7.188236           5.586729                  3.26   \n",
              "4  59982.197226        5.040555           7.839388                  4.23   \n",
              "\n",
              "   Area_Populations         Price  \\\n",
              "0      23086.800503  1.059034e+06   \n",
              "1      40173.072174  1.505891e+06   \n",
              "2      36882.159400  1.058988e+06   \n",
              "3      34310.242831  1.260617e+06   \n",
              "4      26354.109472  6.309435e+05   \n",
              "\n",
              "                                             Address  \n",
              "0  208 Michael Ferry Apt. 674\\nLaurabury, NE 3701...  \n",
              "1  188 Johnson Views Suite 079\\nLake Kathleen, CA...  \n",
              "2  9127 Elizabeth Stravenue\\nDanieltown, WI 06482...  \n",
              "3                          USS Barnett\\nFPO AP 44820  \n",
              "4                         USNS Raymond\\nFPO AE 09386  "
            ],
            "text/html": [
              "\n",
              "  <div id=\"df-1b7b0a89-4397-4a8f-b2d2-1baef247cc46\">\n",
              "    <div class=\"colab-df-container\">\n",
              "      <div>\n",
              "<style scoped>\n",
              "    .dataframe tbody tr th:only-of-type {\n",
              "        vertical-align: middle;\n",
              "    }\n",
              "\n",
              "    .dataframe tbody tr th {\n",
              "        vertical-align: top;\n",
              "    }\n",
              "\n",
              "    .dataframe thead th {\n",
              "        text-align: right;\n",
              "    }\n",
              "</style>\n",
              "<table border=\"1\" class=\"dataframe\">\n",
              "  <thead>\n",
              "    <tr style=\"text-align: right;\">\n",
              "      <th></th>\n",
              "      <th>Area_Income</th>\n",
              "      <th>Area_House_Age</th>\n",
              "      <th>Area_Number_Rooms</th>\n",
              "      <th>Area_Number_Bedrooms</th>\n",
              "      <th>Area_Populations</th>\n",
              "      <th>Price</th>\n",
              "      <th>Address</th>\n",
              "    </tr>\n",
              "  </thead>\n",
              "  <tbody>\n",
              "    <tr>\n",
              "      <th>0</th>\n",
              "      <td>79545.458574</td>\n",
              "      <td>5.682861</td>\n",
              "      <td>7.009188</td>\n",
              "      <td>4.09</td>\n",
              "      <td>23086.800503</td>\n",
              "      <td>1.059034e+06</td>\n",
              "      <td>208 Michael Ferry Apt. 674\\nLaurabury, NE 3701...</td>\n",
              "    </tr>\n",
              "    <tr>\n",
              "      <th>1</th>\n",
              "      <td>79248.642455</td>\n",
              "      <td>6.002900</td>\n",
              "      <td>6.730821</td>\n",
              "      <td>3.09</td>\n",
              "      <td>40173.072174</td>\n",
              "      <td>1.505891e+06</td>\n",
              "      <td>188 Johnson Views Suite 079\\nLake Kathleen, CA...</td>\n",
              "    </tr>\n",
              "    <tr>\n",
              "      <th>2</th>\n",
              "      <td>61287.067179</td>\n",
              "      <td>5.865890</td>\n",
              "      <td>8.512727</td>\n",
              "      <td>5.13</td>\n",
              "      <td>36882.159400</td>\n",
              "      <td>1.058988e+06</td>\n",
              "      <td>9127 Elizabeth Stravenue\\nDanieltown, WI 06482...</td>\n",
              "    </tr>\n",
              "    <tr>\n",
              "      <th>3</th>\n",
              "      <td>63345.240046</td>\n",
              "      <td>7.188236</td>\n",
              "      <td>5.586729</td>\n",
              "      <td>3.26</td>\n",
              "      <td>34310.242831</td>\n",
              "      <td>1.260617e+06</td>\n",
              "      <td>USS Barnett\\nFPO AP 44820</td>\n",
              "    </tr>\n",
              "    <tr>\n",
              "      <th>4</th>\n",
              "      <td>59982.197226</td>\n",
              "      <td>5.040555</td>\n",
              "      <td>7.839388</td>\n",
              "      <td>4.23</td>\n",
              "      <td>26354.109472</td>\n",
              "      <td>6.309435e+05</td>\n",
              "      <td>USNS Raymond\\nFPO AE 09386</td>\n",
              "    </tr>\n",
              "  </tbody>\n",
              "</table>\n",
              "</div>\n",
              "      <button class=\"colab-df-convert\" onclick=\"convertToInteractive('df-1b7b0a89-4397-4a8f-b2d2-1baef247cc46')\"\n",
              "              title=\"Convert this dataframe to an interactive table.\"\n",
              "              style=\"display:none;\">\n",
              "        \n",
              "  <svg xmlns=\"http://www.w3.org/2000/svg\" height=\"24px\"viewBox=\"0 0 24 24\"\n",
              "       width=\"24px\">\n",
              "    <path d=\"M0 0h24v24H0V0z\" fill=\"none\"/>\n",
              "    <path d=\"M18.56 5.44l.94 2.06.94-2.06 2.06-.94-2.06-.94-.94-2.06-.94 2.06-2.06.94zm-11 1L8.5 8.5l.94-2.06 2.06-.94-2.06-.94L8.5 2.5l-.94 2.06-2.06.94zm10 10l.94 2.06.94-2.06 2.06-.94-2.06-.94-.94-2.06-.94 2.06-2.06.94z\"/><path d=\"M17.41 7.96l-1.37-1.37c-.4-.4-.92-.59-1.43-.59-.52 0-1.04.2-1.43.59L10.3 9.45l-7.72 7.72c-.78.78-.78 2.05 0 2.83L4 21.41c.39.39.9.59 1.41.59.51 0 1.02-.2 1.41-.59l7.78-7.78 2.81-2.81c.8-.78.8-2.07 0-2.86zM5.41 20L4 18.59l7.72-7.72 1.47 1.35L5.41 20z\"/>\n",
              "  </svg>\n",
              "      </button>\n",
              "      \n",
              "  <style>\n",
              "    .colab-df-container {\n",
              "      display:flex;\n",
              "      flex-wrap:wrap;\n",
              "      gap: 12px;\n",
              "    }\n",
              "\n",
              "    .colab-df-convert {\n",
              "      background-color: #E8F0FE;\n",
              "      border: none;\n",
              "      border-radius: 50%;\n",
              "      cursor: pointer;\n",
              "      display: none;\n",
              "      fill: #1967D2;\n",
              "      height: 32px;\n",
              "      padding: 0 0 0 0;\n",
              "      width: 32px;\n",
              "    }\n",
              "\n",
              "    .colab-df-convert:hover {\n",
              "      background-color: #E2EBFA;\n",
              "      box-shadow: 0px 1px 2px rgba(60, 64, 67, 0.3), 0px 1px 3px 1px rgba(60, 64, 67, 0.15);\n",
              "      fill: #174EA6;\n",
              "    }\n",
              "\n",
              "    [theme=dark] .colab-df-convert {\n",
              "      background-color: #3B4455;\n",
              "      fill: #D2E3FC;\n",
              "    }\n",
              "\n",
              "    [theme=dark] .colab-df-convert:hover {\n",
              "      background-color: #434B5C;\n",
              "      box-shadow: 0px 1px 3px 1px rgba(0, 0, 0, 0.15);\n",
              "      filter: drop-shadow(0px 1px 2px rgba(0, 0, 0, 0.3));\n",
              "      fill: #FFFFFF;\n",
              "    }\n",
              "  </style>\n",
              "\n",
              "      <script>\n",
              "        const buttonEl =\n",
              "          document.querySelector('#df-1b7b0a89-4397-4a8f-b2d2-1baef247cc46 button.colab-df-convert');\n",
              "        buttonEl.style.display =\n",
              "          google.colab.kernel.accessAllowed ? 'block' : 'none';\n",
              "\n",
              "        async function convertToInteractive(key) {\n",
              "          const element = document.querySelector('#df-1b7b0a89-4397-4a8f-b2d2-1baef247cc46');\n",
              "          const dataTable =\n",
              "            await google.colab.kernel.invokeFunction('convertToInteractive',\n",
              "                                                     [key], {});\n",
              "          if (!dataTable) return;\n",
              "\n",
              "          const docLinkHtml = 'Like what you see? Visit the ' +\n",
              "            '<a target=\"_blank\" href=https://colab.research.google.com/notebooks/data_table.ipynb>data table notebook</a>'\n",
              "            + ' to learn more about interactive tables.';\n",
              "          element.innerHTML = '';\n",
              "          dataTable['output_type'] = 'display_data';\n",
              "          await google.colab.output.renderOutput(dataTable, element);\n",
              "          const docLink = document.createElement('div');\n",
              "          docLink.innerHTML = docLinkHtml;\n",
              "          element.appendChild(docLink);\n",
              "        }\n",
              "      </script>\n",
              "    </div>\n",
              "  </div>\n",
              "  "
            ]
          },
          "metadata": {},
          "execution_count": 7
        }
      ]
    },
    {
      "cell_type": "code",
      "execution_count": 8,
      "metadata": {
        "id": "wSybia17vlcN",
        "colab": {
          "base_uri": "https://localhost:8080/"
        },
        "outputId": "5f700ba1-daf8-43ad-ed88-0824ab45c56a"
      },
      "outputs": [
        {
          "output_type": "stream",
          "name": "stdout",
          "text": [
            "<class 'pandas.core.frame.DataFrame'>\n",
            "RangeIndex: 5000 entries, 0 to 4999\n",
            "Data columns (total 7 columns):\n",
            " #   Column                Non-Null Count  Dtype  \n",
            "---  ------                --------------  -----  \n",
            " 0   Area_Income           5000 non-null   float64\n",
            " 1   Area_House_Age        5000 non-null   float64\n",
            " 2   Area_Number_Rooms     5000 non-null   float64\n",
            " 3   Area_Number_Bedrooms  5000 non-null   float64\n",
            " 4   Area_Populations      5000 non-null   float64\n",
            " 5   Price                 5000 non-null   float64\n",
            " 6   Address               5000 non-null   object \n",
            "dtypes: float64(6), object(1)\n",
            "memory usage: 273.6+ KB\n"
          ]
        }
      ],
      "source": [
        "house_data.info()"
      ]
    },
    {
      "cell_type": "code",
      "execution_count": 9,
      "metadata": {
        "id": "CceZWXIOvt-6",
        "colab": {
          "base_uri": "https://localhost:8080/"
        },
        "outputId": "ab85feef-3619-404f-a2e4-97a939222998"
      },
      "outputs": [
        {
          "output_type": "execute_result",
          "data": {
            "text/plain": [
              "Area_Income             0\n",
              "Area_House_Age          0\n",
              "Area_Number_Rooms       0\n",
              "Area_Number_Bedrooms    0\n",
              "Area_Populations        0\n",
              "Price                   0\n",
              "Address                 0\n",
              "dtype: int64"
            ]
          },
          "metadata": {},
          "execution_count": 9
        }
      ],
      "source": [
        "house_data.isnull().sum()"
      ]
    },
    {
      "cell_type": "code",
      "source": [
        "house_data=house_data.drop(['Address'], axis=1)\n",
        "house_data.head()"
      ],
      "metadata": {
        "colab": {
          "base_uri": "https://localhost:8080/",
          "height": 206
        },
        "id": "e3viWSdViac3",
        "outputId": "aa58a47b-9d03-41dd-a29e-c31e85730881"
      },
      "execution_count": 10,
      "outputs": [
        {
          "output_type": "execute_result",
          "data": {
            "text/plain": [
              "    Area_Income  Area_House_Age  Area_Number_Rooms  Area_Number_Bedrooms  \\\n",
              "0  79545.458574        5.682861           7.009188                  4.09   \n",
              "1  79248.642455        6.002900           6.730821                  3.09   \n",
              "2  61287.067179        5.865890           8.512727                  5.13   \n",
              "3  63345.240046        7.188236           5.586729                  3.26   \n",
              "4  59982.197226        5.040555           7.839388                  4.23   \n",
              "\n",
              "   Area_Populations         Price  \n",
              "0      23086.800503  1.059034e+06  \n",
              "1      40173.072174  1.505891e+06  \n",
              "2      36882.159400  1.058988e+06  \n",
              "3      34310.242831  1.260617e+06  \n",
              "4      26354.109472  6.309435e+05  "
            ],
            "text/html": [
              "\n",
              "  <div id=\"df-f8f0c0e8-c8f8-4c4a-8d4c-39d97328db80\">\n",
              "    <div class=\"colab-df-container\">\n",
              "      <div>\n",
              "<style scoped>\n",
              "    .dataframe tbody tr th:only-of-type {\n",
              "        vertical-align: middle;\n",
              "    }\n",
              "\n",
              "    .dataframe tbody tr th {\n",
              "        vertical-align: top;\n",
              "    }\n",
              "\n",
              "    .dataframe thead th {\n",
              "        text-align: right;\n",
              "    }\n",
              "</style>\n",
              "<table border=\"1\" class=\"dataframe\">\n",
              "  <thead>\n",
              "    <tr style=\"text-align: right;\">\n",
              "      <th></th>\n",
              "      <th>Area_Income</th>\n",
              "      <th>Area_House_Age</th>\n",
              "      <th>Area_Number_Rooms</th>\n",
              "      <th>Area_Number_Bedrooms</th>\n",
              "      <th>Area_Populations</th>\n",
              "      <th>Price</th>\n",
              "    </tr>\n",
              "  </thead>\n",
              "  <tbody>\n",
              "    <tr>\n",
              "      <th>0</th>\n",
              "      <td>79545.458574</td>\n",
              "      <td>5.682861</td>\n",
              "      <td>7.009188</td>\n",
              "      <td>4.09</td>\n",
              "      <td>23086.800503</td>\n",
              "      <td>1.059034e+06</td>\n",
              "    </tr>\n",
              "    <tr>\n",
              "      <th>1</th>\n",
              "      <td>79248.642455</td>\n",
              "      <td>6.002900</td>\n",
              "      <td>6.730821</td>\n",
              "      <td>3.09</td>\n",
              "      <td>40173.072174</td>\n",
              "      <td>1.505891e+06</td>\n",
              "    </tr>\n",
              "    <tr>\n",
              "      <th>2</th>\n",
              "      <td>61287.067179</td>\n",
              "      <td>5.865890</td>\n",
              "      <td>8.512727</td>\n",
              "      <td>5.13</td>\n",
              "      <td>36882.159400</td>\n",
              "      <td>1.058988e+06</td>\n",
              "    </tr>\n",
              "    <tr>\n",
              "      <th>3</th>\n",
              "      <td>63345.240046</td>\n",
              "      <td>7.188236</td>\n",
              "      <td>5.586729</td>\n",
              "      <td>3.26</td>\n",
              "      <td>34310.242831</td>\n",
              "      <td>1.260617e+06</td>\n",
              "    </tr>\n",
              "    <tr>\n",
              "      <th>4</th>\n",
              "      <td>59982.197226</td>\n",
              "      <td>5.040555</td>\n",
              "      <td>7.839388</td>\n",
              "      <td>4.23</td>\n",
              "      <td>26354.109472</td>\n",
              "      <td>6.309435e+05</td>\n",
              "    </tr>\n",
              "  </tbody>\n",
              "</table>\n",
              "</div>\n",
              "      <button class=\"colab-df-convert\" onclick=\"convertToInteractive('df-f8f0c0e8-c8f8-4c4a-8d4c-39d97328db80')\"\n",
              "              title=\"Convert this dataframe to an interactive table.\"\n",
              "              style=\"display:none;\">\n",
              "        \n",
              "  <svg xmlns=\"http://www.w3.org/2000/svg\" height=\"24px\"viewBox=\"0 0 24 24\"\n",
              "       width=\"24px\">\n",
              "    <path d=\"M0 0h24v24H0V0z\" fill=\"none\"/>\n",
              "    <path d=\"M18.56 5.44l.94 2.06.94-2.06 2.06-.94-2.06-.94-.94-2.06-.94 2.06-2.06.94zm-11 1L8.5 8.5l.94-2.06 2.06-.94-2.06-.94L8.5 2.5l-.94 2.06-2.06.94zm10 10l.94 2.06.94-2.06 2.06-.94-2.06-.94-.94-2.06-.94 2.06-2.06.94z\"/><path d=\"M17.41 7.96l-1.37-1.37c-.4-.4-.92-.59-1.43-.59-.52 0-1.04.2-1.43.59L10.3 9.45l-7.72 7.72c-.78.78-.78 2.05 0 2.83L4 21.41c.39.39.9.59 1.41.59.51 0 1.02-.2 1.41-.59l7.78-7.78 2.81-2.81c.8-.78.8-2.07 0-2.86zM5.41 20L4 18.59l7.72-7.72 1.47 1.35L5.41 20z\"/>\n",
              "  </svg>\n",
              "      </button>\n",
              "      \n",
              "  <style>\n",
              "    .colab-df-container {\n",
              "      display:flex;\n",
              "      flex-wrap:wrap;\n",
              "      gap: 12px;\n",
              "    }\n",
              "\n",
              "    .colab-df-convert {\n",
              "      background-color: #E8F0FE;\n",
              "      border: none;\n",
              "      border-radius: 50%;\n",
              "      cursor: pointer;\n",
              "      display: none;\n",
              "      fill: #1967D2;\n",
              "      height: 32px;\n",
              "      padding: 0 0 0 0;\n",
              "      width: 32px;\n",
              "    }\n",
              "\n",
              "    .colab-df-convert:hover {\n",
              "      background-color: #E2EBFA;\n",
              "      box-shadow: 0px 1px 2px rgba(60, 64, 67, 0.3), 0px 1px 3px 1px rgba(60, 64, 67, 0.15);\n",
              "      fill: #174EA6;\n",
              "    }\n",
              "\n",
              "    [theme=dark] .colab-df-convert {\n",
              "      background-color: #3B4455;\n",
              "      fill: #D2E3FC;\n",
              "    }\n",
              "\n",
              "    [theme=dark] .colab-df-convert:hover {\n",
              "      background-color: #434B5C;\n",
              "      box-shadow: 0px 1px 3px 1px rgba(0, 0, 0, 0.15);\n",
              "      filter: drop-shadow(0px 1px 2px rgba(0, 0, 0, 0.3));\n",
              "      fill: #FFFFFF;\n",
              "    }\n",
              "  </style>\n",
              "\n",
              "      <script>\n",
              "        const buttonEl =\n",
              "          document.querySelector('#df-f8f0c0e8-c8f8-4c4a-8d4c-39d97328db80 button.colab-df-convert');\n",
              "        buttonEl.style.display =\n",
              "          google.colab.kernel.accessAllowed ? 'block' : 'none';\n",
              "\n",
              "        async function convertToInteractive(key) {\n",
              "          const element = document.querySelector('#df-f8f0c0e8-c8f8-4c4a-8d4c-39d97328db80');\n",
              "          const dataTable =\n",
              "            await google.colab.kernel.invokeFunction('convertToInteractive',\n",
              "                                                     [key], {});\n",
              "          if (!dataTable) return;\n",
              "\n",
              "          const docLinkHtml = 'Like what you see? Visit the ' +\n",
              "            '<a target=\"_blank\" href=https://colab.research.google.com/notebooks/data_table.ipynb>data table notebook</a>'\n",
              "            + ' to learn more about interactive tables.';\n",
              "          element.innerHTML = '';\n",
              "          dataTable['output_type'] = 'display_data';\n",
              "          await google.colab.output.renderOutput(dataTable, element);\n",
              "          const docLink = document.createElement('div');\n",
              "          docLink.innerHTML = docLinkHtml;\n",
              "          element.appendChild(docLink);\n",
              "        }\n",
              "      </script>\n",
              "    </div>\n",
              "  </div>\n",
              "  "
            ]
          },
          "metadata": {},
          "execution_count": 10
        }
      ]
    },
    {
      "cell_type": "code",
      "execution_count": 11,
      "metadata": {
        "id": "OPz6E1pB6yBO",
        "colab": {
          "base_uri": "https://localhost:8080/"
        },
        "outputId": "8c5ccdd0-70f4-4809-e800-cda1d123bf06"
      },
      "outputs": [
        {
          "output_type": "execute_result",
          "data": {
            "text/plain": [
              "(5000, 6)"
            ]
          },
          "metadata": {},
          "execution_count": 11
        }
      ],
      "source": [
        "house_data.shape"
      ]
    },
    {
      "cell_type": "code",
      "source": [
        "# Plotting heatmap \n",
        "corr=house_data.corr()\n",
        "mask = np.zeros_like(corr)\n",
        "mask[np.triu_indices_from(mask)]= True\n",
        "f, ax = plt.subplots(figsize=(10, 10)) \n",
        "heatmap = sns.heatmap(corr, mask = mask,\n",
        "                      square = True,\n",
        "                      linewidths = .5,\n",
        "                      cmap = \"rocket_r\",\n",
        "                      cbar_kws = {'shrink': .8, \n",
        "                                \"ticks\" : [-2, -1, 0, 1, 2]},\n",
        "                      vmin = -2, \n",
        "                      vmax = 2,\n",
        "                      annot = True,\n",
        "                      annot_kws = {\"size\":8})\n",
        "# Add the column names as labels\n",
        "ax.set_yticklabels(corr.columns)\n",
        "ax.set_xticklabels(corr.columns)\n",
        "sns.set_style({'xtick.bottom': True}, {'ytick.left': True});"
      ],
      "metadata": {
        "colab": {
          "base_uri": "https://localhost:8080/",
          "height": 842
        },
        "id": "X8ab3HkW3RCi",
        "outputId": "55fbfa79-e2cc-4d95-bfb5-5b01c519f728"
      },
      "execution_count": 12,
      "outputs": [
        {
          "output_type": "display_data",
          "data": {
            "text/plain": [
              "<Figure size 1000x1000 with 2 Axes>"
            ],
            "image/png": "[encoded data removed]"
          },
          "metadata": {}
        }
      ]
    },
    {
      "cell_type": "markdown",
      "source": [
        "**1.2-Build Model**"
      ],
      "metadata": {
        "id": "MxvI-dHn8g2M"
      }
    },
    {
      "cell_type": "code",
      "source": [
        "from sklearn.model_selection import train_test_split\n",
        "#Split data into train and test sets\n",
        "x = house_data.drop(['Price'],axis=1)\n",
        "y = house_data['Price']\n",
        " \n",
        "X_train, X_test, y_train, y_test = train_test_split(\n",
        "    x, y, train_size=0.70,test_size=0.30, random_state=0)\n",
        "print(X_train.shape, X_test.shape)"
      ],
      "metadata": {
        "colab": {
          "base_uri": "https://localhost:8080/"
        },
        "id": "B7djJlZxjbXW",
        "outputId": "614e6b47-8618-4e92-98ea-34bb0e93ae37"
      },
      "execution_count": 13,
      "outputs": [
        {
          "output_type": "stream",
          "name": "stdout",
          "text": [
            "(3500, 5) (1500, 5)\n"
          ]
        }
      ]
    },
    {
      "cell_type": "code",
      "source": [
        "#RandomForestRegressor\n",
        "from sklearn.ensemble import RandomForestRegressor\n",
        "from sklearn.metrics import mean_absolute_percentage_error\n",
        "from sklearn import metrics\n",
        "\n",
        "model_RFR=RandomForestRegressor(n_estimators = 1000, random_state = 42)\n",
        "model_RFR.fit(X_train,y_train)\n",
        "y_pred=model_RFR.predict(X_test)\n",
        "\n",
        "print('R2 Value:',metrics.r2_score(y_test, model_RFR.predict(X_test)))\n",
        "print('Accuracy',100- (np.mean(np.abs((y_test - y_pred ) / y_test)) * 100))\n",
        "pd.Series(model_RFR.feature_importances_, index=x.columns).sort_values(ascending=False)"
      ],
      "metadata": {
        "colab": {
          "base_uri": "https://localhost:8080/"
        },
        "id": "yYJZdUZRl6QA",
        "outputId": "09b34c82-8e53-4df6-f906-4f184d210a34"
      },
      "execution_count": 14,
      "outputs": [
        {
          "output_type": "stream",
          "name": "stdout",
          "text": [
            "R2 Value: 0.888424780124613\n",
            "Accuracy 90.40888727311193\n"
          ]
        },
        {
          "output_type": "execute_result",
          "data": {
            "text/plain": [
              "Area_Income             0.428232\n",
              "Area_House_Age          0.237280\n",
              "Area_Populations        0.188185\n",
              "Area_Number_Rooms       0.128525\n",
              "Area_Number_Bedrooms    0.017778\n",
              "dtype: float64"
            ]
          },
          "metadata": {},
          "execution_count": 14
        }
      ]
    },
    {
      "cell_type": "code",
      "source": [
        "# Import library for visualization\n",
        "import matplotlib.pyplot as plt\n",
        "\n",
        "# Define x axis\n",
        "x_axis = X_test.Area_House_Age\n",
        "\n",
        "# Build scatterplot\n",
        "plt.scatter(x_axis, y_test, color = 'orange', marker = '.', label = 'Real')\n",
        "plt.scatter(x_axis, y_pred, color = 'blue',marker = '.',label = 'Predicted')\n",
        "plt.xlabel('Avg. Area House Age')\n",
        "plt.ylabel('Price')\n",
        "plt.grid(color ='#D3D3D3')\n",
        "plt.legend(loc ='lower right')\n",
        "plt.show()"
      ],
      "metadata": {
        "colab": {
          "base_uri": "https://localhost:8080/",
          "height": 465
        },
        "id": "mnDszYT3jVkv",
        "outputId": "203f04c0-49a7-48d0-a34e-5d6e275215a9"
      },
      "execution_count": 15,
      "outputs": [
        {
          "output_type": "display_data",
          "data": {
            "text/plain": [
              "<Figure size 640x480 with 1 Axes>"
            ],
            "image/png": "[encoded data removed]"
          },
          "metadata": {}
        }
      ]
    },
    {
      "cell_type": "code",
      "source": [
        "# Import library for metrics\n",
        "from sklearn.metrics import mean_squared_error, r2_score, mean_absolute_error\n",
        "\n",
        "# Mean absolute error (MAE)\n",
        "mae = mean_absolute_error(y_test, y_pred)\n",
        "# Mean squared error (MSE)\n",
        "mse = mean_squared_error(y_test, y_pred)\n",
        "# R-squared scores\n",
        "r2 = r2_score(y_test.values,y_pred)\n",
        "# Print metrics\n",
        "print('Mean Absolute Error:', round(mae, 2))\n",
        "print('Mean Squared Error:', round(mse, 2))\n",
        "print('R-squared scores:', round(r2, 2))"
      ],
      "metadata": {
        "colab": {
          "base_uri": "https://localhost:8080/"
        },
        "id": "8NM5s8KosyD7",
        "outputId": "47958637-f021-4a6b-f5cd-a70331ab45bf"
      },
      "execution_count": 16,
      "outputs": [
        {
          "output_type": "stream",
          "name": "stdout",
          "text": [
            "Mean Absolute Error: 95982.06\n",
            "Mean Squared Error: 14431051360.91\n",
            "R-squared scores: 0.89\n"
          ]
        }
      ]
    },
    {
      "cell_type": "code",
      "source": [
        "from sklearn.linear_model import LinearRegression\n",
        "model = LinearRegression()\n",
        "# Train the model\n",
        "model.fit(X_train, y_train)\n",
        "# Use model to make predictions\n",
        "y_pred = model.predict(X_test)\n",
        "\n",
        "from sklearn.metrics import mean_squared_error, r2_score, mean_absolute_error\n",
        "# Printout relevant metrics\n",
        "print(\"Model Coefficients:\", model.coef_)\n",
        "print(\"Mean Absolute Error:\", mean_absolute_error(y_test, y_pred))\n",
        "print(\"Coefficient of Determination:\", r2_score(y_test, y_pred))\n",
        "\n",
        "pd.Series(model.coef_, index=x.columns).sort_values(ascending=False)"
      ],
      "metadata": {
        "colab": {
          "base_uri": "https://localhost:8080/"
        },
        "id": "HcylL7oNmdig",
        "outputId": "3564ae0b-9c1b-4bc7-e6d4-f5bfd83b11b1"
      },
      "execution_count": 17,
      "outputs": [
        {
          "output_type": "stream",
          "name": "stdout",
          "text": [
            "Model Coefficients: [2.16187374e+01 1.66145180e+05 1.21010577e+05 1.76003780e+03\n",
            " 1.51647974e+01]\n",
            "Mean Absolute Error: 81563.14733994487\n",
            "Coefficient of Determination: 0.9200757649412041\n"
          ]
        },
        {
          "output_type": "execute_result",
          "data": {
            "text/plain": [
              "Area_House_Age          166145.179949\n",
              "Area_Number_Rooms       121010.576873\n",
              "Area_Number_Bedrooms      1760.037796\n",
              "Area_Income                 21.618737\n",
              "Area_Populations            15.164797\n",
              "dtype: float64"
            ]
          },
          "metadata": {},
          "execution_count": 17
        }
      ]
    },
    {
      "cell_type": "code",
      "source": [
        "# Import library for visualization\n",
        "import matplotlib.pyplot as plt\n",
        "\n",
        "# Define x axis\n",
        "x_axis = X_test.Area_House_Age\n",
        "\n",
        "# Build scatterplot\n",
        "plt.scatter(x_axis, y_test, color = 'orange', marker = '.', label = 'Real')\n",
        "plt.scatter(x_axis, y_pred, color = 'blue',marker = '.',label = 'Predicted')\n",
        "plt.xlabel('Avg. Area House Age')\n",
        "plt.ylabel('Price')\n",
        "plt.grid(color ='#D3D3D3')\n",
        "plt.legend(loc ='lower right')\n",
        "plt.show()"
      ],
      "metadata": {
        "colab": {
          "base_uri": "https://localhost:8080/",
          "height": 465
        },
        "id": "q3wPxd3aQe_f",
        "outputId": "723eb845-62fc-41e5-91d2-247f2dc41cd4"
      },
      "execution_count": 18,
      "outputs": [
        {
          "output_type": "display_data",
          "data": {
            "text/plain": [
              "<Figure size 640x480 with 1 Axes>"
            ],
            "image/png": "[encoded data removed]"
          },
          "metadata": {}
        }
      ]
    },
    {
      "cell_type": "code",
      "source": [
        "# Make prediction\n",
        "import warnings\n",
        "warnings.filterwarnings('ignore')\n",
        "\n",
        "predict = model.predict(X_test)\n",
        "result = X_test\n",
        "result['Price'] = y_test\n",
        "result['Predic_Price'] = predict.tolist()\n",
        "result.head()"
      ],
      "metadata": {
        "colab": {
          "base_uri": "https://localhost:8080/",
          "height": 270
        },
        "id": "ZFo7anEkijiX",
        "outputId": "c6320643-ca8b-47ed-c01b-01539e68d3b2"
      },
      "execution_count": 19,
      "outputs": [
        {
          "output_type": "execute_result",
          "data": {
            "text/plain": [
              "       Area_Income  Area_House_Age  Area_Number_Rooms  Area_Number_Bedrooms  \\\n",
              "398   61200.726175        5.299694           6.234615                  4.23   \n",
              "3833  63380.814670        5.344664           6.001574                  2.45   \n",
              "4836  71208.269301        5.300326           6.077989                  4.01   \n",
              "4572  50343.763518        6.027468           5.160240                  4.35   \n",
              "636   54535.453719        5.278065           6.871038                  4.41   \n",
              "\n",
              "      Area_Populations          Price   Predic_Price  \n",
              "398       42789.692217  894251.068636  969608.346806  \n",
              "3833      40217.333577  932979.360621  953868.155486  \n",
              "4836      25696.361741  920747.911288  907506.328361  \n",
              "4572      27445.876739  691854.921027  493325.260323  \n",
              "636       30852.207006  732733.236293  718221.210115  "
            ],
            "text/html": [
              "\n",
              "  <div id=\"df-9f8d200d-b667-44c6-b5bc-8440cec74048\">\n",
              "    <div class=\"colab-df-container\">\n",
              "      <div>\n",
              "<style scoped>\n",
              "    .dataframe tbody tr th:only-of-type {\n",
              "        vertical-align: middle;\n",
              "    }\n",
              "\n",
              "    .dataframe tbody tr th {\n",
              "        vertical-align: top;\n",
              "    }\n",
              "\n",
              "    .dataframe thead th {\n",
              "        text-align: right;\n",
              "    }\n",
              "</style>\n",
              "<table border=\"1\" class=\"dataframe\">\n",
              "  <thead>\n",
              "    <tr style=\"text-align: right;\">\n",
              "      <th></th>\n",
              "      <th>Area_Income</th>\n",
              "      <th>Area_House_Age</th>\n",
              "      <th>Area_Number_Rooms</th>\n",
              "      <th>Area_Number_Bedrooms</th>\n",
              "      <th>Area_Populations</th>\n",
              "      <th>Price</th>\n",
              "      <th>Predic_Price</th>\n",
              "    </tr>\n",
              "  </thead>\n",
              "  <tbody>\n",
              "    <tr>\n",
              "      <th>398</th>\n",
              "      <td>61200.726175</td>\n",
              "      <td>5.299694</td>\n",
              "      <td>6.234615</td>\n",
              "      <td>4.23</td>\n",
              "      <td>42789.692217</td>\n",
              "      <td>894251.068636</td>\n",
              "      <td>969608.346806</td>\n",
              "    </tr>\n",
              "    <tr>\n",
              "      <th>3833</th>\n",
              "      <td>63380.814670</td>\n",
              "      <td>5.344664</td>\n",
              "      <td>6.001574</td>\n",
              "      <td>2.45</td>\n",
              "      <td>40217.333577</td>\n",
              "      <td>932979.360621</td>\n",
              "      <td>953868.155486</td>\n",
              "    </tr>\n",
              "    <tr>\n",
              "      <th>4836</th>\n",
              "      <td>71208.269301</td>\n",
              "      <td>5.300326</td>\n",
              "      <td>6.077989</td>\n",
              "      <td>4.01</td>\n",
              "      <td>25696.361741</td>\n",
              "      <td>920747.911288</td>\n",
              "      <td>907506.328361</td>\n",
              "    </tr>\n",
              "    <tr>\n",
              "      <th>4572</th>\n",
              "      <td>50343.763518</td>\n",
              "      <td>6.027468</td>\n",
              "      <td>5.160240</td>\n",
              "      <td>4.35</td>\n",
              "      <td>27445.876739</td>\n",
              "      <td>691854.921027</td>\n",
              "      <td>493325.260323</td>\n",
              "    </tr>\n",
              "    <tr>\n",
              "      <th>636</th>\n",
              "      <td>54535.453719</td>\n",
              "      <td>5.278065</td>\n",
              "      <td>6.871038</td>\n",
              "      <td>4.41</td>\n",
              "      <td>30852.207006</td>\n",
              "      <td>732733.236293</td>\n",
              "      <td>718221.210115</td>\n",
              "    </tr>\n",
              "  </tbody>\n",
              "</table>\n",
              "</div>\n",
              "      <button class=\"colab-df-convert\" onclick=\"convertToInteractive('df-9f8d200d-b667-44c6-b5bc-8440cec74048')\"\n",
              "              title=\"Convert this dataframe to an interactive table.\"\n",
              "              style=\"display:none;\">\n",
              "        \n",
              "  <svg xmlns=\"http://www.w3.org/2000/svg\" height=\"24px\"viewBox=\"0 0 24 24\"\n",
              "       width=\"24px\">\n",
              "    <path d=\"M0 0h24v24H0V0z\" fill=\"none\"/>\n",
              "    <path d=\"M18.56 5.44l.94 2.06.94-2.06 2.06-.94-2.06-.94-.94-2.06-.94 2.06-2.06.94zm-11 1L8.5 8.5l.94-2.06 2.06-.94-2.06-.94L8.5 2.5l-.94 2.06-2.06.94zm10 10l.94 2.06.94-2.06 2.06-.94-2.06-.94-.94-2.06-.94 2.06-2.06.94z\"/><path d=\"M17.41 7.96l-1.37-1.37c-.4-.4-.92-.59-1.43-.59-.52 0-1.04.2-1.43.59L10.3 9.45l-7.72 7.72c-.78.78-.78 2.05 0 2.83L4 21.41c.39.39.9.59 1.41.59.51 0 1.02-.2 1.41-.59l7.78-7.78 2.81-2.81c.8-.78.8-2.07 0-2.86zM5.41 20L4 18.59l7.72-7.72 1.47 1.35L5.41 20z\"/>\n",
              "  </svg>\n",
              "      </button>\n",
              "      \n",
              "  <style>\n",
              "    .colab-df-container {\n",
              "      display:flex;\n",
              "      flex-wrap:wrap;\n",
              "      gap: 12px;\n",
              "    }\n",
              "\n",
              "    .colab-df-convert {\n",
              "      background-color: #E8F0FE;\n",
              "      border: none;\n",
              "      border-radius: 50%;\n",
              "      cursor: pointer;\n",
              "      display: none;\n",
              "      fill: #1967D2;\n",
              "      height: 32px;\n",
              "      padding: 0 0 0 0;\n",
              "      width: 32px;\n",
              "    }\n",
              "\n",
              "    .colab-df-convert:hover {\n",
              "      background-color: #E2EBFA;\n",
              "      box-shadow: 0px 1px 2px rgba(60, 64, 67, 0.3), 0px 1px 3px 1px rgba(60, 64, 67, 0.15);\n",
              "      fill: #174EA6;\n",
              "    }\n",
              "\n",
              "    [theme=dark] .colab-df-convert {\n",
              "      background-color: #3B4455;\n",
              "      fill: #D2E3FC;\n",
              "    }\n",
              "\n",
              "    [theme=dark] .colab-df-convert:hover {\n",
              "      background-color: #434B5C;\n",
              "      box-shadow: 0px 1px 3px 1px rgba(0, 0, 0, 0.15);\n",
              "      filter: drop-shadow(0px 1px 2px rgba(0, 0, 0, 0.3));\n",
              "      fill: #FFFFFF;\n",
              "    }\n",
              "  </style>\n",
              "\n",
              "      <script>\n",
              "        const buttonEl =\n",
              "          document.querySelector('#df-9f8d200d-b667-44c6-b5bc-8440cec74048 button.colab-df-convert');\n",
              "        buttonEl.style.display =\n",
              "          google.colab.kernel.accessAllowed ? 'block' : 'none';\n",
              "\n",
              "        async function convertToInteractive(key) {\n",
              "          const element = document.querySelector('#df-9f8d200d-b667-44c6-b5bc-8440cec74048');\n",
              "          const dataTable =\n",
              "            await google.colab.kernel.invokeFunction('convertToInteractive',\n",
              "                                                     [key], {});\n",
              "          if (!dataTable) return;\n",
              "\n",
              "          const docLinkHtml = 'Like what you see? Visit the ' +\n",
              "            '<a target=\"_blank\" href=https://colab.research.google.com/notebooks/data_table.ipynb>data table notebook</a>'\n",
              "            + ' to learn more about interactive tables.';\n",
              "          element.innerHTML = '';\n",
              "          dataTable['output_type'] = 'display_data';\n",
              "          await google.colab.output.renderOutput(dataTable, element);\n",
              "          const docLink = document.createElement('div');\n",
              "          docLink.innerHTML = docLinkHtml;\n",
              "          element.appendChild(docLink);\n",
              "        }\n",
              "      </script>\n",
              "    </div>\n",
              "  </div>\n",
              "  "
            ]
          },
          "metadata": {},
          "execution_count": 19
        }
      ]
    },
    {
      "cell_type": "markdown",
      "source": [
        "**1.3- Save Model**"
      ],
      "metadata": {
        "id": "aGE4O3W5AaD5"
      }
    },
    {
      "cell_type": "code",
      "source": [
        "import pickle"
      ],
      "metadata": {
        "id": "ogBFsVMuXQ0m"
      },
      "execution_count": 20,
      "outputs": []
    },
    {
      "cell_type": "code",
      "source": [
        "#Save model\n",
        "pickle.dump(model, open('model.pkl', 'wb'))"
      ],
      "metadata": {
        "id": "yPGAF_9oQ3UY"
      },
      "execution_count": 21,
      "outputs": []
    },
    {
      "cell_type": "markdown",
      "source": [
        "# **2-Deploying The Model on Flask (Web App)**"
      ],
      "metadata": {
        "id": "jsiG9BzGGvRZ"
      }
    },
    {
      "cell_type": "code",
      "source": [
        "!pip install flask --quiet\n",
        "!pip install flask-ngrok --quiet"
      ],
      "metadata": {
        "id": "HlHZOHOJBN5P"
      },
      "execution_count": 22,
      "outputs": []
    },
    {
      "cell_type": "code",
      "source": [
        "!wget https://bin.equinox.io/c/4VmDzA7iaHb/ngrok-stable-linux-amd64.tgz"
      ],
      "metadata": {
        "colab": {
          "base_uri": "https://localhost:8080/"
        },
        "id": "S794LQ88BX3D",
        "outputId": "e4c6864f-cc4d-4ab8-d6ba-47ee35354a46"
      },
      "execution_count": 23,
      "outputs": [
        {
          "output_type": "stream",
          "name": "stdout",
          "text": [
            "--2023-05-28 16:55:13--  https://bin.equinox.io/c/4VmDzA7iaHb/ngrok-stable-linux-amd64.tgz\n",
            "Resolving bin.equinox.io (bin.equinox.io)... 52.202.168.65, 54.161.241.46, 54.237.133.81, ...\n",
            "Connecting to bin.equinox.io (bin.equinox.io)|52.202.168.65|:443... connected.\n",
            "HTTP request sent, awaiting response... 200 OK\n",
            "Length: 13856790 (13M) [application/octet-stream]\n",
            "Saving to: ‘ngrok-stable-linux-amd64.tgz’\n",
            "\n",
            "ngrok-stable-linux- 100%[===================>]  13.21M  12.8MB/s    in 1.0s    \n",
            "\n",
            "2023-05-28 16:55:15 (12.8 MB/s) - ‘ngrok-stable-linux-amd64.tgz’ saved [13856790/13856790]\n",
            "\n"
          ]
        }
      ]
    },
    {
      "cell_type": "code",
      "source": [
        "!tar -xvf /content/ngrok-stable-linux-amd64.tgz"
      ],
      "metadata": {
        "colab": {
          "base_uri": "https://localhost:8080/"
        },
        "id": "8MxGeSyPBaJq",
        "outputId": "8370d5b3-5926-4776-d361-1922bd1c5e9e"
      },
      "execution_count": 24,
      "outputs": [
        {
          "output_type": "stream",
          "name": "stdout",
          "text": [
            "ngrok\n"
          ]
        }
      ]
    },
    {
      "cell_type": "code",
      "source": [
        "!./ngrok authtoken 23H0IY10fqeKMIW7kG05JhKZMae_3Zabr2iqkU9AUcZ7CrRTP"
      ],
      "metadata": {
        "colab": {
          "base_uri": "https://localhost:8080/"
        },
        "id": "IFbKR6LjBaNJ",
        "outputId": "bfc76922-81fc-4547-e8a3-9687065de54e"
      },
      "execution_count": 25,
      "outputs": [
        {
          "output_type": "stream",
          "name": "stdout",
          "text": [
            "Authtoken saved to configuration file: /root/.ngrok2/ngrok.yml\n"
          ]
        }
      ]
    },
    {
      "cell_type": "code",
      "source": [
        "# import Flask from flask module\n",
        "from flask import Flask\n",
        "\n",
        "# import run_with_ngrok from flask_ngrok to run the app using ngrok\n",
        "from flask_ngrok import run_with_ngrok\n",
        "from flask import Flask, request, render_template  \n",
        "app = Flask(__name__) #app name\n",
        "run_with_ngrok(app)\n",
        "  \n",
        "model = pickle.load(open('model.pkl','rb'))\n",
        "\n",
        "@app.route('/')\n",
        "def home():\n",
        "    return render_template('index.html')\n",
        "\n",
        "@app.route('/', methods = ['POST'])\n",
        "def predict():\n",
        "    int_features = [int(x) for x in request.form.values()]\n",
        "    features = [np.array(int_features)]\n",
        "    prediction = model.predict(features)\n",
        "    \n",
        "    output = round(prediction[0], 2)\n",
        "    \n",
        "    if output < 0:\n",
        "        return render_template('index.html', prediction_text = \" Values entered not reasonable\")\n",
        "    elif output >= 0:\n",
        "        return render_template('index.html', prediction_text = 'Predicted Price of the house is: ${}'.format(output))   \n",
        "\n",
        "#Run app\n",
        "if __name__ == \"__main__\":\n",
        "    app.run()"
      ],
      "metadata": {
        "colab": {
          "base_uri": "https://localhost:8080/"
        },
        "id": "DKZHCcmatejM",
        "outputId": "cfa1d723-804d-4cdd-d486-67900ffcc5d6"
      },
      "execution_count": 29,
      "outputs": [
        {
          "output_type": "stream",
          "name": "stdout",
          "text": [
            " * Serving Flask app '__main__'\n",
            " * Debug mode: off\n"
          ]
        },
        {
          "output_type": "stream",
          "name": "stderr",
          "text": [
            "INFO:werkzeug:\u001b[31m\u001b[1mWARNING: This is a development server. Do not use it in a production deployment. Use a production WSGI server instead.\u001b[0m\n",
            " * Running on http://127.0.0.1:5000\n",
            "INFO:werkzeug:\u001b[33mPress CTRL+C to quit\u001b[0m\n"
          ]
        },
        {
          "output_type": "stream",
          "name": "stdout",
          "text": [
            " * Running on http://4af9-34-32-197-14.ngrok-free.app\n",
            " * Traffic stats available on http://127.0.0.1:4040\n"
          ]
        },
        {
          "output_type": "stream",
          "name": "stderr",
          "text": [
            "INFO:werkzeug:127.0.0.1 - - [28/May/2023 16:56:45] \"GET / HTTP/1.1\" 200 -\n",
            "INFO:werkzeug:127.0.0.1 - - [28/May/2023 16:56:49] \"\u001b[33mGET /favicon.ico HTTP/1.1\u001b[0m\" 404 -\n"
          ]
        }
      ]
    },
    {
      "cell_type": "code",
      "source": [
        "!mkdir templates -p"
      ],
      "metadata": {
        "id": "yoVOKg1-ECDM"
      },
      "execution_count": 27,
      "outputs": []
    },
    {
      "cell_type": "code",
      "source": [
        "#css code\n",
        "%%writefile templates/index.html\n",
        "\n",
        "<html>\n",
        "\n",
        "<head>\n",
        "    <meta charset=\"UTF-8\">\n",
        "    <style>\n",
        "        /*This section involves the overall style of main tags*/\n",
        "\n",
        "        * {\n",
        "            font-family: Lucida Handwriting;\n",
        "        }\n",
        "\n",
        "        body {\n",
        "            background-color: rgb(179, 94, 167);\n",
        "            background-size: cover;\n",
        "        }\n",
        "\n",
        "        form {\n",
        "            text-align: center;\n",
        "        }\n",
        "\n",
        "        h1 {\n",
        "            color: white;\n",
        "            text-align: center;\n",
        "            font-family: Lucida Handwriting;\n",
        "            font-size: 500%;\n",
        "        }\n",
        "\n",
        "        button {\n",
        "            font-weight: bold;\n",
        "            background-color: rgb(179, 94, 167);\n",
        "            padding: 8px 16px;\n",
        "            display: inline-block;\n",
        "            text-decoration: none;\n",
        "            border-radius: 3px;\n",
        "            color: black;\n",
        "            border-color: black;\n",
        "            font-family: Monaco;\n",
        "            border-style: solid;\n",
        "        }\n",
        "\n",
        "        input {\n",
        "            padding: 12px 20px;\n",
        "            margin: 8px 0;\n",
        "            box-sizing: border-box\n",
        "        }\n",
        "\n",
        "        label {\n",
        "            color: white;\n",
        "        }\n",
        "\n",
        "        /*Margin, layout and design of paragraphs and structures*/\n",
        "\n",
        "        .para {\n",
        "            text-align: center;\n",
        "        }\n",
        "\n",
        "        .result {\n",
        "            font-weight: bold;\n",
        "            background-color: rgb(179, 94, 167);\n",
        "            padding: 8px 16px;\n",
        "            display: inline-block;\n",
        "            text-decoration: none;\n",
        "            border-radius: 3px;\n",
        "            color: black;\n",
        "            border-color: black;\n",
        "            font-family: Monaco;\n",
        "            border-style: solid;\n",
        "        }\n",
        "\n",
        "        .pred {\n",
        "            text-align: center;\n",
        "        }\n",
        "\n",
        "        .intro {\n",
        "            font-size: 20px;\n",
        "        }\n",
        "\n",
        "\n",
        "        /*Layout and structure of form body in page*/\n",
        "\n",
        "        div.container {\n",
        "            background-color: rgba(0, 0, 0, 0.5);\n",
        "            font-size: 18px;\n",
        "            margin: 1%;\n",
        "            width: 500px;\n",
        "            border: 2px solid rgba(255, 255, 255, 0.3);\n",
        "            padding: 7px;\n",
        "            border-radius: 50px 20px;\n",
        "            box-shadow: 2px 2px 15px\n",
        "        }\n",
        "\n",
        "        div.page {\n",
        "            width: 500px;\n",
        "            margin: 100px auto 0px auto;\n",
        "        }\n",
        "\n",
        "        form.info {\n",
        "            margin: 15px;\n",
        "        }\n",
        "\n",
        "        /*This section involves the design of the inputs in the form*/\n",
        "\n",
        "        input#name {\n",
        "            width: 300px;\n",
        "            border: 1px solid #ddd;\n",
        "            border-radius: 3px;\n",
        "            outline: 0;\n",
        "            padding: 7px;\n",
        "            color: black;\n",
        "            box-shadow: insert 1px 1px 5px rgba(0, 0, 0, 0.3);\n",
        "        }\n",
        "\n",
        "        input#age {\n",
        "            width: 300px;\n",
        "            border: 1px solid #ddd;\n",
        "            border-radius: 3px;\n",
        "            outline: 0;\n",
        "            padding: 7px;\n",
        "            background-color: #fff;\n",
        "            box-shadow: insert 1px 1px 5px rgba(0, 0, 0, 0.3);\n",
        "        }\n",
        "\n",
        "        input#rooms {\n",
        "            width: 300px;\n",
        "            border: 1px solid #ddd;\n",
        "            border-radius: 3px;\n",
        "            outline: 0;\n",
        "            padding: 7px;\n",
        "            background-color: #fff;\n",
        "            box-shadow: insert 1px 1px 5px rgba(0, 0, 0, 0.3);\n",
        "        }\n",
        "\n",
        "        input#bedrooms {\n",
        "            width: 300px;\n",
        "            border: 1px solid #ddd;\n",
        "            border-radius: 3px;\n",
        "            outline: 0;\n",
        "            padding: 7px;\n",
        "            background-color: #fff;\n",
        "            box-shadow: insert 1px 1px 5px rgba(0, 0, 0, 0.3);\n",
        "        }\n",
        "\n",
        "        input#population {\n",
        "            width: 300px;\n",
        "            border: 1px solid #ddd;\n",
        "            border-radius: 3px;\n",
        "            outline: 0;\n",
        "            padding: 7px;\n",
        "            background-color: #fff;\n",
        "            box-shadow: insert 1px 1px 5px rgba(0, 0, 0, 0.3);\n",
        "        }\n",
        "\n",
        "\n",
        "        /*Responsible for shadow backgrounds*/\n",
        "\n",
        "        .table {\n",
        "            display: table;\n",
        "            margin: 0 auto;\n",
        "            margin-left: 33.85%;\n",
        "        }\n",
        "\n",
        "        ul#horizontal-list {\n",
        "            min-width: 696px;\n",
        "            list-style: none;\n",
        "        }\n",
        "\n",
        "        /*This section is concerned with the link layout*/\n",
        "\n",
        "        div.title img {\n",
        "            display: inline-block;\n",
        "            vertical-align: middle;\n",
        "        }\n",
        "\n",
        "        div.title h1 {\n",
        "            margin-left: 150px;\n",
        "            display: inline-block;\n",
        "            vertical-align: middle;\n",
        "            padding-left: 10%;\n",
        "            font-family: \"Lucida Handwriting\";\n",
        "        }\n",
        "\n",
        "    </style>\n",
        "</head>\n",
        "\n",
        "<body>\n",
        "    <!---Initialize structure of Title and house picture--->\n",
        "    <div class=\"title\">\n",
        "        <h1>House Price Predictor</h1>\n",
        "        <img src=\"https://seeklogo.com/images/P/purple-house-logo-F4F2DD22E9-seeklogo.com.png\" class=\"house\" />\n",
        "    </div>\n",
        "\n",
        "    <!---Containerize main page for styling--->\n",
        "    <div class=\"page\">\n",
        "        <!---Containerize paragraph and form for styling--->\n",
        "        <div class=\"container\">\n",
        "            <br>\n",
        "            <!---Initialize form structure and inputs, set method to \"POST\"--->\n",
        "            <form action=\"{{url_for('predict')}}\" method=\"post\" class=\"info\">\n",
        "                <label for=\"name\">Average Area Income</label>\n",
        "                <input type=\"text\" id=\"name\" name=\"Average Income of Area\" required=\"required\" />\n",
        "                <br>\n",
        "                <br>\n",
        "                <label for=\"name\">Average House Age</label>\n",
        "                <input type=\"text\" id=\"age\" name=\"Average House Age\" required=\"required\" /> \n",
        "                <br>\n",
        "                <br>\n",
        "                <label for=\"name\">Average Number of Rooms </label>\n",
        "                <input type=\"text\" id=\"rooms\" name=\"Average Number of Rooms \" required=\"required\" />\n",
        "                <br>\n",
        "                <br>\n",
        "                <label for=\"name\">Average Number of Bedrooms</label>\n",
        "                <input type=\"text\" id=\"bedrooms\" name=\"Average Number of Bedrooms\"  required=\"required\" /> \n",
        "                <br>\n",
        "                <br>\n",
        "                <label for=\"name\">Average Area Population</label>\n",
        "                <input type=\"text\" id=\"population\" name=\"Average Area Population\"  required=\"required\" />\n",
        "                <br>\n",
        "                <br>\n",
        "                <button type=\"submit\" class=\"btn\">Predict</button>\n",
        "            </form>\n",
        "            <br> \n",
        "                <!---Set placeholder for prediction output--->\n",
        "                <div class =\"pred\">\n",
        "                    <p class = \"result\"><b>{{ prediction_text }}</b></p>\n",
        "                </div>\n",
        "            </div>\n",
        "        </div>\n",
        "    </body>\n",
        "</html>"
      ],
      "metadata": {
        "colab": {
          "base_uri": "https://localhost:8080/"
        },
        "id": "h4-FOkclEAB1",
        "outputId": "41def8d8-c9f6-417d-fb70-4db241e8cf30"
      },
      "execution_count": 28,
      "outputs": [
        {
          "output_type": "stream",
          "name": "stdout",
          "text": [
            "Writing templates/index.html\n"
          ]
        }
      ]
    }
  ],
  "metadata": {
    "colab": {
      "provenance": []
    },
    "kernelspec": {
      "display_name": "Python 3",
      "name": "python3"
    },
    "language_info": {
      "name": "python"
    }
  },
  "nbformat": 4,
  "nbformat_minor": 0
}